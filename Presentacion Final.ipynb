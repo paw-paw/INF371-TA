{
 "cells": [
  {
   "cell_type": "markdown",
   "metadata": {
    "colab_type": "text",
    "id": "hsgC30pjw8sB"
   },
   "source": [
    "## Carga de tablas\n",
    "\n",
    "Se cargan dos tablas:\n",
    "- ```df``` que almacena ID, nombre interno y nombre de display de todos los héroes del juego\n",
    "- ```stats_df```que almacena la información estadística en la que se basará el cálculo de la utilidad"
   ]
  },
  {
   "cell_type": "code",
   "execution_count": null,
   "metadata": {
    "colab": {},
    "colab_type": "code",
    "id": "aUnWe1GnVVgC"
   },
   "outputs": [],
   "source": [
    "import requests\n",
    "import json\n",
    "import pandas as pd\n",
    "import numpy as np\n",
    "from tabulate import tabulate\n",
    "import statistics"
   ]
  },
  {
   "cell_type": "code",
   "execution_count": null,
   "metadata": {
    "colab": {
     "base_uri": "https://localhost:8080/",
     "height": 206
    },
    "colab_type": "code",
    "id": "Do82iAmyxfQS",
    "outputId": "351dcbea-a93f-4380-cb22-ab5e8b485dde"
   },
   "outputs": [],
   "source": [
    "r = requests.get(\"https://api.stratz.com/api/v1/Hero\") \n",
    "  \n",
    "data = r.json()\n",
    "\n",
    "ids = []\n",
    "names = []\n",
    "short_names = []\n",
    "\n",
    "for key in data:\n",
    "  ids.append(data[key]['id'])\n",
    "  names.append(data[key]['displayName'])\n",
    "  short_names.append(data[key]['shortName'])\n",
    "\n",
    "df = pd.DataFrame({'ID': ids, 'Name': names, 'ShortName': short_names})\n",
    "df.head()"
   ]
  },
  {
   "cell_type": "code",
   "execution_count": null,
   "metadata": {
    "colab": {},
    "colab_type": "code",
    "id": "GZEyGx91ITpl"
   },
   "outputs": [],
   "source": [
    "stats_df = pd.read_csv('ratios1.csv')\n",
    "stats_df.columns = ['ID','name','pro_pick','pro_win','pro_ban']\n",
    "stats_df['pickrate_weight'] = (stats_df['pro_pick']-stats_df['pro_pick'].min())/(stats_df['pro_pick'].max()-stats_df['pro_pick'].min())\n",
    "\n",
    "def getpoints(hero):\n",
    "  win = stats_df[stats_df.name == hero].reset_index(drop=True)['pro_win'][0]\n",
    "  pick = stats_df[stats_df.name == hero].reset_index(drop=True)['pro_pick'][0]\n",
    "  peso = stats_df[stats_df.name == hero].reset_index(drop=True)['pickrate_weight'][0]\n",
    "  return (win/pick - 0.5)*peso*100"
   ]
  },
  {
   "cell_type": "markdown",
   "metadata": {
    "colab_type": "text",
    "id": "YMwSGBSJyg2f"
   },
   "source": [
    "## Predicción de modelo"
   ]
  },
  {
   "cell_type": "code",
   "execution_count": null,
   "metadata": {
    "colab": {},
    "colab_type": "code",
    "id": "VUeNFFp-yjTm"
   },
   "outputs": [],
   "source": [
    "import xgboost as xgb\n",
    "from sklearn.model_selection import train_test_split\n",
    "import numpy as np\n",
    "from sklearn.metrics import precision_score, recall_score, accuracy_score, f1_score, roc_auc_score, roc_curve\n",
    "import pickle\n",
    "import pandas as pd\n",
    "from sklearn.preprocessing import LabelEncoder\n",
    "from sklearn.model_selection import GridSearchCV\n",
    "import matplotlib.pyplot as plt"
   ]
  },
  {
   "cell_type": "code",
   "execution_count": null,
   "metadata": {
    "colab": {},
    "colab_type": "code",
    "id": "yuFeS4Buysc1"
   },
   "outputs": [],
   "source": [
    "with open(\"heroEncoder\", \"rb\") as f: \n",
    "    enc = pickle.load(f)\n",
    "with open(\"labelEncoder\", \"rb\") as f: \n",
    "    labEncoder = pickle.load(f)"
   ]
  },
  {
   "cell_type": "code",
   "execution_count": null,
   "metadata": {
    "colab": {},
    "colab_type": "code",
    "id": "N3wmKGSy8gBK"
   },
   "outputs": [],
   "source": [
    "def getOneHot(lstHeroes):\n",
    "  a = None\n",
    "  flag = True\n",
    "  for i in lstHeroes:\n",
    "    if flag: \n",
    "      flag = False\n",
    "      a = enc.transform([[i]]).toarray()\n",
    "    else:\n",
    "      a = a + enc.transform([[i]]).toarray()\n",
    "  return a  "
   ]
  },
  {
   "cell_type": "code",
   "execution_count": null,
   "metadata": {
    "colab": {},
    "colab_type": "code",
    "id": "_Csxq9oTyybQ"
   },
   "outputs": [],
   "source": [
    "bst = xgb.Booster({'nthread':4})\n",
    "bst.load_model(\"modelo.bin\")"
   ]
  },
  {
   "cell_type": "code",
   "execution_count": null,
   "metadata": {
    "colab": {
     "base_uri": "https://localhost:8080/",
     "height": 34
    },
    "colab_type": "code",
    "id": "7zOkqcvoGIls",
    "outputId": "d7320c29-f876-40a2-cbe8-4ff9aa488cb5"
   },
   "outputs": [],
   "source": [
    "#A Dire le corresponde 0 y a Radiant 1\n",
    "labEncoder.transform([\"Dire\",\"Radiant\"])"
   ]
  },
  {
   "cell_type": "code",
   "execution_count": null,
   "metadata": {
    "colab": {},
    "colab_type": "code",
    "id": "vBLH6MhQFd3q"
   },
   "outputs": [],
   "source": [
    "def get_model_points(radiant,dire):\n",
    "  datapoint = np.concatenate((getOneHot(radiant)[0], getOneHot(dire)[0]), axis=0)  \n",
    "  dmatrix = xgb.DMatrix([datapoint])\n",
    "  pred_val = bst.predict(dmatrix)[0]\n",
    "  return pred_val\n",
    "  #if pred_val - 0.5 < 0: return -1\n",
    "  #else: return 1"
   ]
  },
  {
   "cell_type": "markdown",
   "metadata": {
    "colab_type": "text",
    "id": "_MMIUbU5xgly"
   },
   "source": [
    "## Definición de clases y funciones\n",
    "Se definen las siguientes clases:\n",
    "- ```Game``` clase genérica de la cual hereda el juego\n",
    "- ```dota_draft``` clase con la implementación de funciones del juego\n",
    "- ```MCT_Node``` clase necesaria para la implementación de Montecarlo\n",
    "\n",
    "Así mismo las siguientes funciones:\n",
    "- ```ucb``` función estadística que calcula el valor según el cual se abren los nodos\n",
    "- ```monte_carlo_tree_search``` función que ejecuta la búsqueda de Montecarlo"
   ]
  },
  {
   "cell_type": "code",
   "execution_count": null,
   "metadata": {
    "colab": {},
    "colab_type": "code",
    "id": "LzLIkB1_choQ"
   },
   "outputs": [],
   "source": [
    "class Game:\n",
    "\n",
    "    def actions(self, state):\n",
    "        \"\"\"Retorna una lista de movidas permitidas en el estado actual state.\"\"\"\n",
    "        raise NotImplementedError\n",
    "\n",
    "    def result(self, state, move):\n",
    "        \"\"\"Retorna el nuevo estado que resulta de hacer una movida move en el estado state.\"\"\"\n",
    "        raise NotImplementedError\n",
    "\n",
    "    def utility(self, state, player):\n",
    "        \"\"\"Retorna el valor de utilidad para el jugador player en el estado terminal state.\"\"\"\n",
    "        raise NotImplementedError\n",
    "\n",
    "    def terminal_test(self, state):\n",
    "        \"\"\"Retorna True si el estado state es un estado terminal del juego.\"\"\"\n",
    "        return not self.actions(state)\n",
    "\n",
    "    def to_move(self, state):\n",
    "        \"\"\"Retorna el jugador que le toca jugar en el presente estado state.\"\"\"\n",
    "        return state.to_move\n",
    "\n",
    "    def display(self, state):\n",
    "        \"\"\"Imprime o displaya el state.\"\"\"\n",
    "        print(state)\n",
    "\n",
    "    def __repr__(self):\n",
    "        return '<{}>'.format(self.__class__.__name__)\n",
    "\n",
    "    def play_game(self, *players):\n",
    "        state = self.initial\n",
    "        draft_order = self.draft_order\n",
    "\n",
    "        for i in range(len(draft_order)):\n",
    "          if self.terminal_test(state):\n",
    "            break\n",
    "          #team = 'RADIANT' if draft_order[i] == 0 else 'DIRE'\n",
    "          #print(\"TURNO {}: JUEGA {}\".format(i+1, team))\n",
    "          #print(\"\")\n",
    "          move = players[draft_order[i]](self, state)\n",
    "          state = self.result(state, move)\n",
    "        self.display(state)\n",
    "        return self.utility(state, self.to_move(self.initial)), (state.radiant, state.dire) #retorna utilidad del 1er jugador al acabar el juego"
   ]
  },
  {
   "cell_type": "code",
   "execution_count": null,
   "metadata": {
    "colab": {},
    "colab_type": "code",
    "id": "q2FrKbBEjngd"
   },
   "outputs": [],
   "source": [
    "from collections import namedtuple\n",
    "GameState = namedtuple('GameState', 'to_move, utility, radiant, dire, moves, turn') #Un estado es una tupla con nombres de campos (namedtuple)\n",
    "import random\n",
    "import itertools\n",
    "import copy\n",
    "\n",
    "class dota_draft(Game):\n",
    "    \n",
    "    def __init__(self, typeofcomputation='ranking'):\n",
    "        self.typeofcomputation = typeofcomputation\n",
    "        moves = [x for x in short_names]\n",
    "        cols_count = 22\n",
    "        rows_count = 2\n",
    "        radiant_draft = []\n",
    "        dire_draft = []\n",
    "        radiant_picks = []\n",
    "        dire_picks = []\n",
    "        self.radiant_bans = []\n",
    "        self.dire_bans = []\n",
    "        # d->1 r->0\n",
    "        self.draft_order = [0,1,0,1,0,1,0,1,0,1,0,1,0,1,1,0,1,0,0,1,0,1,0,1,-1]\n",
    "        self.draft_pick_seq = [0,0,0,0,1,1,1,1,0,0,0,0,0,0,1,1,1,1,0,0,0,0,1,1] # 0=ban 1=pick\n",
    "        self.initial = GameState(to_move='r', utility=0, radiant=radiant_picks, dire=dire_picks, moves=moves, turn=0)\n",
    "\n",
    "    def actions(self, state):\n",
    "        \"\"\"Movidas legales son todas las posiciones aun sin marcar (el estado almacena las movidas legales)\"\"\"\n",
    "        return state.moves\n",
    "\n",
    "    def result(self, state, move):\n",
    "        \"\"\"Retorna el nuevo estado de hacer la movida move en el estado state .\"\"\"\n",
    "        if move not in state.moves:\n",
    "            return state  # Si es una movida ilegal retorna sin cambiar el estado\n",
    "        if self.terminal_test(state):\n",
    "            return state\n",
    "\n",
    "        if state.to_move == 'r':\n",
    "          board = state.radiant.copy()\n",
    "          other = state.dire.copy()\n",
    "        else:\n",
    "          board = state.dire.copy()\n",
    "          other = state.radiant.copy()\n",
    "\n",
    "        if self.draft_pick_seq[state.turn] == 1:\n",
    "          board.append(move)\n",
    "        else:\n",
    "          if state.to_move == 'r':\n",
    "            self.radiant_bans.append(move)\n",
    "          else:\n",
    "            self.dire_bans.append(move)\n",
    "        \n",
    "        moves = list(state.moves)\n",
    "        moves.remove(move)\n",
    "\n",
    "        turno = state.turn + 1\n",
    "        #state.turn = state.turn + 1\n",
    "          \n",
    "        return GameState(to_move=('d' if self.draft_order[turno] == 1 else 'r'),\n",
    "                         utility=self.compute_utility(board, other, state.to_move),\n",
    "                         radiant=(board if state.to_move == 'r' else other),\n",
    "                         dire=(board if state.to_move == 'd' else other), moves=moves, turn=turno)\n",
    "\n",
    "    def utility(self, state, player):\n",
    "        \"\"\"Retorna la utilidad del player en estado terminal state; 1 si ganó, -1 si perdió, 0 empate.\"\"\"\n",
    "        return state.utility if player=='r' else -state.utility\n",
    "\n",
    "    def terminal_test(self, state):\n",
    "        \"\"\"Un estado es terminal si hay un ganador o no hay mas movidas posibles.\"\"\"\n",
    "        return state.turn >= len(self.draft_pick_seq)\n",
    "\n",
    "    def display(self, state):\n",
    "        radiant_picks = state.radiant.copy()\n",
    "        dire_picks = state.dire.copy()\n",
    "        #r = np.full(11, '', dtype=np.dtype('U100'))\n",
    "        #d = np.full(11, '', dtype=np.dtype('U100'))\n",
    "        \n",
    "        #print('Radiant picks: ', radiant_picks)\n",
    "        #print('Dire picks: ', dire_picks)\n",
    "        #print('Radiant bans: ', self.radiant_bans)\n",
    "        #print('Dire bans: ', self.dire_bans)\n",
    "\n",
    "        #for i in range(len(radiant_picks)):\n",
    "          #r[i] = radiant_picks[i]\n",
    "        #for i in range(len(dire_picks)):\n",
    "          #d[i] = dire_picks[i]\n",
    "\n",
    "        #numpy_data = np.array([r, d])\n",
    "        #df = pd.DataFrame(data=numpy_data)\n",
    "        #df.columns =['BAN', 'BAN', 'BAN', 'BAN', 'PICK', 'PICK', 'BAN', 'PICK', 'PICK', 'BAN', 'PICK'] \n",
    "        #df.index = ['Radiant','Dire']\n",
    "        #print(tabulate(df, headers='keys', tablefmt='psql'))\n",
    "\n",
    "    def compute_utility(self, board, other, player):\n",
    "      if self.typeofcomputation == 'xgb':\n",
    "        if (len(board) == 5 and len(other) == 5):\n",
    "          temp = get_model_points(radiant,dire)\n",
    "          if player == 'r': return temp\n",
    "          elif player == 'd': return -temp\n",
    "        else:\n",
    "          return 0\n",
    "      elif self.typeofcomputation == 'ranking':\n",
    "        if (len(board) == 5 and len(other) == 5):\n",
    "          temp = 0\n",
    "          for hero in board:\n",
    "              temp = temp + getpoints(hero)\n",
    "          for hero in other:\n",
    "              temp = temp - getpoints(hero)\n",
    "          if player == 'r':\n",
    "            return temp\n",
    "          elif player == 'd':\n",
    "            return -temp\n",
    "        else:\n",
    "          return 0"
   ]
  },
  {
   "cell_type": "code",
   "execution_count": null,
   "metadata": {
    "colab": {},
    "colab_type": "code",
    "id": "ARzlIHcGQNKs"
   },
   "outputs": [],
   "source": [
    "class MCT_Node:\n",
    "    def __init__(self, parent=None, state=None, U=0, N=0):\n",
    "        self.__dict__.update(parent=parent, state=state, U=U, N=N)\n",
    "        self.children = {}\n",
    "        self.actions = None"
   ]
  },
  {
   "cell_type": "code",
   "execution_count": null,
   "metadata": {
    "colab": {},
    "colab_type": "code",
    "id": "mDkBGkjpQOcQ"
   },
   "outputs": [],
   "source": [
    "def ucb(n, C=1.4):\n",
    "    if n.N == 0:\n",
    "        return np.inf    \n",
    "    else:\n",
    "        return (n.U / n.N) + C * np.sqrt(np.log(n.parent.N) / n.N)"
   ]
  },
  {
   "cell_type": "code",
   "execution_count": null,
   "metadata": {
    "colab": {},
    "colab_type": "code",
    "id": "4qhPuwfaiESi"
   },
   "outputs": [],
   "source": [
    "def monte_carlo_tree_search(state, game, N=100):\n",
    "    def select(n):\n",
    "        \"\"\"select a leaf node in the tree\"\"\"\n",
    "        if n.children:\n",
    "            return select(max(n.children.keys(), key=ucb))\n",
    "        else:\n",
    "            return n\n",
    "\n",
    "    def expand(n):\n",
    "        \"\"\"expand the leaf node by adding all its children states\"\"\"\n",
    "        if not n.children and not game.terminal_test(n.state):\n",
    "            n.children = {MCT_Node(state=game.result(n.state, action), parent=n): action\n",
    "                          for action in game.actions(n.state)}\n",
    "        return select(n)\n",
    "\n",
    "    def simulate(game, state):\n",
    "        \"\"\"simulate the utility of current state by random picking a step\"\"\"\n",
    "        player = game.to_move(state)\n",
    "        #print(player)\n",
    "        #print(state)\n",
    "        while not game.terminal_test(state):\n",
    "            #print(state)\n",
    "            action = random.choice(list(game.actions(state)))\n",
    "            state = game.result(state, action)\n",
    "        v = game.utility(state, player)\n",
    "        return -v\n",
    "\n",
    "    def backprop(n, utility):\n",
    "        \"\"\"passing the utility back to all parent nodes\"\"\"\n",
    "        if utility > 0:\n",
    "            n.U += utility\n",
    "        # if utility == 0:\n",
    "        #     n.U += 0.5\n",
    "        n.N += 1\n",
    "        if n.parent:\n",
    "            backprop(n.parent, -utility)\n",
    "\n",
    "    root = MCT_Node(state=state)\n",
    "\n",
    "    for i in range(N):\n",
    "        #print('iteracion ', i)\n",
    "        leaf = select(root)\n",
    "        child = expand(leaf)\n",
    "        result = simulate(game, child.state)\n",
    "        backprop(child, result)\n",
    "\n",
    "    max_state = max(root.children, key=lambda p: p.N)\n",
    "\n",
    "    return root.children.get(max_state)"
   ]
  },
  {
   "cell_type": "markdown",
   "metadata": {
    "colab_type": "text",
    "id": "ZoEF-nKw0LYi"
   },
   "source": [
    "## Creación de jugadores humanos\n",
    "Se crean los siguientes jugadores:\n",
    "- ```human_player``` para un jugador humano\n",
    "- ```mcts_player``` para la búsqueda de Montecarlo\n",
    "- ```random_player``` para un jugador que elige aleatoriamente"
   ]
  },
  {
   "cell_type": "code",
   "execution_count": null,
   "metadata": {
    "colab": {},
    "colab_type": "code",
    "id": "QBWWQciUkPeE"
   },
   "outputs": [],
   "source": [
    "def human_player(game, state):\n",
    "    game.display(state)\n",
    "    print(\"Movidas disponibles: {}\".format(game.actions(state)))\n",
    "    print(\"\")\n",
    "    move_string = input('Elija un héroe ')\n",
    "  \n",
    "    while move_string not in game.actions(state):\n",
    "      move_string = input('Elija un héroe ')\n",
    "\n",
    "    print(\"\")\n",
    "    return move_string\n",
    "\n",
    "def mcts_player(game, state):\n",
    "    return monte_carlo_tree_search(state, game)\n",
    "\n",
    "def random_player(game,state):\n",
    "    return random.choice(game.actions(state))"
   ]
  },
  {
   "cell_type": "markdown",
   "metadata": {
    "colab_type": "text",
    "id": "XdEkLaKw0Zaw"
   },
   "source": [
    "## Creación de funciones para obtener métrica\n",
    "Estamos considerando como dos métricas  el porcentaje de ventaja predicho por el sitio web NeuralDota. Por ello creamos las siguientes funciones:\n",
    "- ```getNDPrediction``` para extraer la ventaja de un draft o de otro (valores positivos para Radiant y negativos para Dire)"
   ]
  },
  {
   "cell_type": "code",
   "execution_count": null,
   "metadata": {
    "colab": {},
    "colab_type": "code",
    "id": "0tprgejbtUgt"
   },
   "outputs": [],
   "source": [
    "from selenium.webdriver import Chrome\n",
    "from selenium.webdriver.common.by import By\n",
    "from selenium.webdriver.support.ui import Select\n",
    "from selenium.common.exceptions import NoSuchElementException\n",
    "from selenium.webdriver.common.keys import Keys\n",
    "from selenium.webdriver.common.action_chains import ActionChains\n",
    "from selenium import webdriver\n",
    "import time\n",
    "import re\n",
    "\n",
    "def getNDPrediction(radiant,dire):\n",
    "\n",
    "    def fancynames(team):\n",
    "        fancyteam = []\n",
    "        for name in team:\n",
    "          fancyname = df[df['ShortName'] == name]['Name'].to_string(index=False)\n",
    "          fancyteam.append(fancyname[1:])\n",
    "        return fancyteam\n",
    "\n",
    "    driver = Chrome('chromedriver.exe')\n",
    "    link = 'https://neuraldota.com/team-neural-network'\n",
    "    driver.get(link)\n",
    "    driver.find_element_by_css_selector(\".mat-h1:nth-child(1)\").click()\n",
    "    driver.find_elements_by_xpath(\"//*[contains(text(), ' Pick as Radiant ')]\")[0].click()\n",
    "    for i in range(5):\n",
    "        nombre = fancynames(radiant)[i]\n",
    "        time.sleep(2)\n",
    "        actions = ActionChains(driver)\n",
    "        actions.send_keys(nombre)\n",
    "        actions.send_keys(Keys.ENTER)\n",
    "        actions.perform()\n",
    "        nombre = fancynames(dire)[i]\n",
    "        time.sleep(2)\n",
    "        actions = ActionChains(driver)\n",
    "        actions.send_keys(nombre)\n",
    "        actions.send_keys(Keys.ENTER)\n",
    "        actions.perform()\n",
    "    text = driver.find_elements_by_xpath(\"//*[contains(text(), ' All games ')]\")[0].find_elements_by_css_selector(\"*\")[0].text\n",
    "    driver.quit()\n",
    "    if re.search('Radiant',text):\n",
    "        return float(re.findall(\"\\+(.*?)%\\)\",text)[0])\n",
    "    elif re.search('Dire',text):\n",
    "        return -float(re.findall(\"\\+(.*?)%\\)\",text)[0])\n",
    "\n"
   ]
  },
  {
   "cell_type": "code",
   "execution_count": null,
   "metadata": {
    "colab": {},
    "colab_type": "code",
    "id": "0BiZuRfvkaXn"
   },
   "outputs": [],
   "source": [
    "dota = dota_draft()\n",
    "prediction, (radiant, dire)= dota.play_game(random_player, random_player)"
   ]
  },
  {
   "cell_type": "code",
   "execution_count": null,
   "metadata": {
    "colab": {},
    "colab_type": "code",
    "id": "TAyJ9fuAggyb"
   },
   "outputs": [],
   "source": [
    "n_tests = 20\n",
    "for scoring in ['ranking','xgb']:\n",
    "    coincidencias = 0\n",
    "    diferencias = []\n",
    "    for _ in range(n_tests):\n",
    "        dota = dota_draft(typeofcomputation = scoring)\n",
    "        prediction, (radiant, dire) = dota.play_game(mcts_player, random_player)\n",
    "        ndprediction = getNDPrediction(radiant, dire)\n",
    "        if (ndprediction*prediction > 0):\n",
    "            coincidencias = coincidencias + 1\n",
    "        diferencia = abs(ndprediction-prediction)\n",
    "        diferencias.append(diferencia)\n",
    "        print(\"Coincidencia?\",bool(coincidencias),\". Diferencia entre preds:\",diferencia)\n",
    "\n",
    "    print('Número de veces que el resultado del draft coincide con el cálculo de ND:',coincidencias)\n",
    "    print('Desviación estándar entre resultado del draft y cálculo de ND:',statistics.stdev(diferencias))"
   ]
  },
  {
   "cell_type": "markdown",
   "metadata": {},
   "source": [
    "## Misceláneo\n",
    "Ejemplo de ejecución independiente. Se puede cambiar los jugadores por alguna de las siguientes opciones:\n",
    "- ```mcts_player```: Utiliza el agente Monte Carlo\n",
    "- ```random_player```: Prohibe y elige héroes al azar\n",
    "- ```human_player```: Humano elige héroes"
   ]
  },
  {
   "cell_type": "code",
   "execution_count": null,
   "metadata": {
    "colab": {
     "base_uri": "https://localhost:8080/",
     "height": 54
    },
    "colab_type": "code",
    "id": "mN3e56KUwfI3",
    "outputId": "b7da6911-736b-4810-8e33-cf2610abb909"
   },
   "outputs": [],
   "source": [
    "%%time\n",
    "dota = dota_draft(typeofcomputation = 'ranking')\n",
    "prediction, (radiant, dire) = dota.play_game(mcts_player, random_player)\n",
    "print(prediction,radiant,dire)"
   ]
  },
  {
   "cell_type": "code",
   "execution_count": null,
   "metadata": {
    "colab": {
     "base_uri": "https://localhost:8080/",
     "height": 54
    },
    "colab_type": "code",
    "id": "RQx11xYsOVIi",
    "outputId": "f63b8e2d-d99c-412a-f377-00d257d6e797"
   },
   "outputs": [],
   "source": [
    "%%time\n",
    "dota = dota_draft(typeofcomputation = 'xgb')\n",
    "prediction, (radiant, dire) = dota.play_game(mcts_player, random_player)\n",
    "print(prediction,radiant,dire)"
   ]
  }
 ],
 "metadata": {
  "colab": {
   "collapsed_sections": [],
   "name": "Presentacion_Parcial.ipynb",
   "provenance": [],
   "toc_visible": true
  },
  "kernelspec": {
   "display_name": "Python 3",
   "language": "python",
   "name": "python3"
  },
  "language_info": {
   "codemirror_mode": {
    "name": "ipython",
    "version": 3
   },
   "file_extension": ".py",
   "mimetype": "text/x-python",
   "name": "python",
   "nbconvert_exporter": "python",
   "pygments_lexer": "ipython3",
   "version": "3.7.7"
  }
 },
 "nbformat": 4,
 "nbformat_minor": 1
}
